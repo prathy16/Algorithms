{
 "cells": [
  {
   "cell_type": "markdown",
   "metadata": {},
   "source": [
    "# CSCI 5454 - Assigment 3 \n",
    "\n",
    "__Your Name:__ \n",
    "\n",
    "__ Collaborated With: __\n",
    "\n",
    "This assignment is to be completed and uploaded to  moodle as a python3 notebook. \n",
    "  * Submission deadlines are posted on moodle. \n",
    "  * The questions  provided  below will ask you to either write code or  write answers in the form of markdown.\n",
    "  * Markdown syntax guide is here: [click here](https://github.com/adam-p/markdown-here/wiki/Markdown-Cheatsheet)\n",
    "  * Using markdown you can typeset formulae using latex. This way you can write nice readable answers with formulae like thus:\n",
    "> The algorithm runs in time $\\Theta\\left(n^{2.1\\log_2(\\log_2( n \\log^*(n)))}\\right)$, \n",
    "wherein $\\log^*(n)$ is the inverse _Ackerman_ function.\n",
    "\n",
    "__Double click anywhere on this box to find out how your instructor typeset it. Press Shift+Enter to go back. __\n"
   ]
  },
  {
   "cell_type": "markdown",
   "metadata": {},
   "source": [
    "## Problem 1: Fixed Point in an Array (20 points)\n",
    "\n",
    "__(A, 5 points)__ A fixed point of an array $A$, if it exists, is an index $i$ such that $A[i] = i$.\n",
    "Given a _sorted_ array $A$ of _distinct_ integers, return the index of the fixed point if one exists, or otherwise, return `-1` to signal that no fixed point exists. Your algorithm must be as efficient as possible."
   ]
  },
  {
   "cell_type": "code",
   "execution_count": 7,
   "metadata": {},
   "outputs": [],
   "source": [
    "def find_fixed_point(a):\n",
    "    # YOUR SOLUTION HERE\n",
    "    l = len(a)\n",
    "    for ind in range(l):\n",
    "        if(a[ind] == ind): return ind\n",
    "    return -1\n",
    "    raise NotImplementedError\n",
    "    # END"
   ]
  },
  {
   "cell_type": "code",
   "execution_count": 8,
   "metadata": {},
   "outputs": [
    {
     "name": "stdout",
     "output_type": "stream",
     "text": [
      "j1= 2\n",
      "j2 =  -1\n",
      "j3 =  0\n",
      "j4 =  0\n",
      " num tests  =  10000\n",
      " num passed =  10000\n"
     ]
    }
   ],
   "source": [
    "## TESTING CODE : DO NOT EDIT\n",
    "from random import sample\n",
    "def find_fixed_point_very_naive(a):\n",
    "    n = len(a)\n",
    "    for i in range(0, n):\n",
    "        if a[i] == i:\n",
    "            return i\n",
    "    return -1\n",
    "\n",
    "a1 = [-1, 0, 2, 3, 10, 12]\n",
    "j1 = find_fixed_point(a1)\n",
    "print('j1=', j1)\n",
    "assert a1[j1] == j1, 'Failed test a1'\n",
    "\n",
    "a2 = [-1, 0, 4, 8, 15, 32]\n",
    "j2 = find_fixed_point(a2)\n",
    "print('j2 = ', j2)\n",
    "assert j2 == -1, ' Failed test a2'\n",
    "\n",
    "a3 = [0, 1, 2, 3, 4, 5, 6, 7, 9]\n",
    "j3 = find_fixed_point(a3)\n",
    "print('j3 = ', j3)\n",
    "assert a3[j3] == j3, ' Failed test a3'\n",
    "\n",
    "\n",
    "a4 = [0]\n",
    "j4 = find_fixed_point(a4)\n",
    "print('j4 = ', j4)\n",
    "assert a4[j4] == j4, ' Failed test a4'\n",
    "\n",
    "\n",
    "def test_find_fixed_point_code(n_tests, test_size):\n",
    "    n_passed = 0\n",
    "    for i in range(0, n_tests):\n",
    "        a = sorted( sample( range(-test_size,  test_size ), test_size))\n",
    "        j = find_fixed_point(a)\n",
    "        k = find_fixed_point_very_naive(a)\n",
    "        if (j >= 0 and a[j] != j): \n",
    "            print(' Code failed for input: ', a, 'returned : ', j, ' (not a fixed point) expected:', k)\n",
    "        elif (j == -1 and k != -1):\n",
    "            print(' Code failed for input: ', a, 'returned : ', j, ' but expected fixed point:', k)\n",
    "        else:\n",
    "            n_passed = n_passed + 1\n",
    "            \n",
    "    return n_passed\n",
    "\n",
    "n_tests = 10000\n",
    "n_passed = test_find_fixed_point_code(n_tests, 20)\n",
    "print(' num tests  = ', n_tests)\n",
    "print(' num passed = ', n_passed)\n",
    "\n",
    "## END TESTS For find_fixed_point"
   ]
  },
  {
   "cell_type": "markdown",
   "metadata": {},
   "source": [
    "__(B, 5 points)__  What is the running time for the algorithm in (A)? Derive a recurrence and writing down its solution."
   ]
  },
  {
   "cell_type": "markdown",
   "metadata": {},
   "source": [
    "## Answer (Expected Length: 4 lines)\n",
    "> $T(0) = 0, T(1) = 1$\n",
    ">\n",
    "> $T(n) = 1 + T(n-1)$\n",
    "> $ = 1 + (1 + T(n-2)) = 2 + T(n-2)$\n",
    "> $ = \\cdots $\n",
    "> $ = n + T(0)$\n",
    ">\n",
    "> Running time for the algorithm is O(n)\n"
   ]
  },
  {
   "cell_type": "markdown",
   "metadata": {},
   "source": [
    "__(C, 10 points)__ You are given a series of coordinates starting from  $(x_0, y_0), (x_1, y_1), \\ldots, (x_{n-1}, y_{n-1})$, such that $x_0 < x_1 < \\cdots < x_{n-1}$ and $y_0 < y_1 < \\cdots < y_{n-1}$. \n",
    "Furthermore, you are given that $x_0 < y_0$ and $x_{n-1} > y_{n-1}$. Imagine a \"curve\" formed by the straight line segments joining successive coordinates $(x_i, y_i)$ and $(x_{i+1}, y_{i+1})$. For convenience assume that $x_i \\not= y_i$ for all points.\n",
    "\n",
    "Write an efficient algorithm to find at least one point  where the curve intersects the line $x = y$ (first convince yourself that such a point must exist). \n",
    "  * Input: two lists `xValues`, `yValues` of equal size containing the x and y coordinates, respectively.\n",
    "    * The sizes of the lists are at least two or more.\n",
    "    * Both lists are sorted in ascending order.\n",
    "  * Output: Return the index $i$ such that the point of intersection with $x = y$ lies on the line segment joining\n",
    "$(x_i, y_i)$ with $(x_{i+1}, y_{i+1})$. \n",
    "    * Note that your algorithm, if correct, will always succeed in finding an intersection point.\n",
    "    \n",
    "Running time of your algorithm must be $\\Theta(\\log_2(n))$.\n"
   ]
  },
  {
   "cell_type": "code",
   "execution_count": 5,
   "metadata": {},
   "outputs": [],
   "source": [
    "# O(n) approach\n",
    "def findPointOfIntersection(xValues, yValues): \n",
    "    # Your CODE HERE\n",
    "    # ....\n",
    "    low, high = 0, xValues.index(xValues[-1])\n",
    "    mid = n//2\n",
    "    while(low < high):\n",
    "        if(xValues[mid] < yValues[mid]): \n",
    "            if(xValues[mid+1] > yValues[mid+1]):\n",
    "                return mid\n",
    "            else:\n",
    "                low = mid+1\n",
    "        else:\n",
    "            high = mid\n",
    "        mid = (low + high) // 2\n",
    "    return -1"
   ]
  },
  {
   "cell_type": "code",
   "execution_count": 6,
   "metadata": {},
   "outputs": [
    {
     "name": "stdout",
     "output_type": "stream",
     "text": [
      "j1 =  3\n",
      "j2 =  8\n",
      "j3 =  3\n",
      "j4 =  0\n",
      "All 100 tests passed\n",
      "All 100 tests passed\n"
     ]
    },
    {
     "data": {
      "text/plain": [
       "True"
      ]
     },
     "execution_count": 6,
     "metadata": {},
     "output_type": "execute_result"
    }
   ],
   "source": [
    "## test code\n",
    "## test code: do not edit\n",
    "from random import randint, sample\n",
    "\n",
    "def checkIntersection(xValues, yValues, i):\n",
    "    if (i < 0 or i >= len(xValues)):\n",
    "        return False\n",
    "    if (xValues[i] < yValues[i] and xValues[i+1] > yValues[i+1]):\n",
    "        return True\n",
    "    return False\n",
    "\n",
    "def isOK(xValues, yValues):\n",
    "    n = len(xValues)\n",
    "    assert (len(yValues) == n)\n",
    "    if (xValues[0] >= yValues[0]):\n",
    "        return False\n",
    "    if (xValues[n-1] <= yValues[n-1]):\n",
    "        return False\n",
    "    for i in range(n):\n",
    "        if (xValues[i] == yValues[i]):\n",
    "            return False\n",
    "        if (i < n-1 and xValues[i+1] <= xValues[i]):\n",
    "            return False\n",
    "        if (i < n-1 and yValues[i+1] <= yValues[i]):\n",
    "            return False\n",
    "    return True\n",
    "\n",
    "\n",
    "\n",
    "xValues1 = [-4, -1, 2, 3, 5, 7, 9]\n",
    "yValues1 = [ 0, 2, 3, 3.5, 4, 5, 7]\n",
    "j1 = findPointOfIntersection(xValues1, yValues1)\n",
    "print('j1 = ', j1)\n",
    "assert checkIntersection(xValues1, yValues1, j1) \n",
    "\n",
    "xValues2 = [-5, -4, -3, -2, -1, 0, 5, 10, 15, 20, 25]\n",
    "yValues2 = [ 0,  2, 4,  8, 10, 12, 14, 16, 18, 19, 22]\n",
    "j2 = findPointOfIntersection(xValues2, yValues2)\n",
    "print('j2 = ', j2)\n",
    "assert checkIntersection(xValues2, yValues2, j2) \n",
    "\n",
    "\n",
    "\n",
    "xValues3 = [-2, -1, 0, 1, 2]\n",
    "yValues3 = [ 0, 0.5, 1, 1.5, 1.75]\n",
    "j3 = findPointOfIntersection(xValues3, yValues3)\n",
    "print('j3 = ', j3)\n",
    "assert checkIntersection(xValues3, yValues3, j3) \n",
    "\n",
    "\n",
    "\n",
    "xValues4 = [-2, 2]\n",
    "yValues4 = [ 0, 1 ]\n",
    "j4 = findPointOfIntersection(xValues4, yValues4)\n",
    "print('j4 = ', j4)\n",
    "assert checkIntersection(xValues4, yValues4, j4) \n",
    "\n",
    "\n",
    "\n",
    "\n",
    "def testPointOfIntersection(size, numTrials):\n",
    "    numActual = 0\n",
    "    for j in range(numTrials):\n",
    "        yValues = list(range(size))\n",
    "        k = randint(1,size-2)\n",
    "        xValues = []\n",
    "        for i in range(k):\n",
    "            xValues.append(yValues[i] - 2)\n",
    "        for i in range(k, size):\n",
    "            xValues.append(yValues[i] + 2)\n",
    "        #print(xValues, yValues)\n",
    "        if (isOK(xValues, yValues)):\n",
    "            j = findPointOfIntersection(xValues, yValues)\n",
    "            numActual = numActual + 1\n",
    "            if (not checkIntersection(xValues, yValues, j)): \n",
    "                print(\"--- FAILED TEST -- \")\n",
    "                print(\"xValues:\", xValues)\n",
    "                print(\"yValues:\", yValues)\n",
    "                print(\"Your code returned:\", j)\n",
    "                print(\"--- End Fail Report -- \")\n",
    "                return False\n",
    "    print(\"All %d tests passed\"%numActual)\n",
    "    return True\n",
    "\n",
    "testPointOfIntersection(50, 100)\n",
    "testPointOfIntersection(75, 100)\n",
    "# end Test Code\n"
   ]
  },
  {
   "cell_type": "markdown",
   "metadata": {},
   "source": [
    "## Problem 2: FFT problem (10 points)\n",
    "\n",
    "Calculate the discrete Fourier transform of the sequence with $n$ numbers:\n",
    "\n",
    "$$ (a_0: 1, a_1:1, \\ldots, a_{n-1}: 1) $$.\n"
   ]
  },
  {
   "cell_type": "markdown",
   "metadata": {},
   "source": [
    "### Answer (Expected: 5 lines)\n",
    "$A_K = \\sum_{j=0}^{n-1} {a_j e^{{\\frac{-2\\pi ik}{n}}j}}$\n",
    "\n",
    "$ = e^{0 \\times {\\frac{-2\\pi ik}{n}} \\times} + e^{1 \\times {\\frac{-2\\pi ik}{n}}} + e^{2 \\times {\\frac{-2\\pi ik}{n}}} + \\cdots + e^{(n-1) \\times {\\frac{-2\\pi ik}{n}}}$ \n",
    "> Let $b_k = e^{\\frac{2\\pi ik}{n}}$\n",
    "\n",
    "$ = 1 + e^{-b_k} + e^{-2b_k} + \\cdots + e^{-(n-1)b_k}$\n",
    "\n",
    "$ = \\frac{1 - e^{-nb_k}}{1 - e^{-b_k}} = 0$\n",
    "\n",
    "$$ (A_0: 0, A_1:0, \\ldots, A_{n-1}: 0) $$."
   ]
  },
  {
   "cell_type": "markdown",
   "metadata": {},
   "source": [
    "## Problem 3: Matrix Vector Multiplication  (10 points)\n",
    "\n",
    "We have a $n \\times n$ matrix with the special form as follows:\n",
    "\n",
    "$$T:\\ \\left( \\begin{array}{ccccc} \n",
    "c_n & c_{n-1} & c_{n-2} & \\cdots & c_1 \\\\\n",
    "c_{n+1} & c_n & c_{n-1} & \\cdots & c_{2} \\\\\n",
    "\\vdots & \\vdots & \\vdots & \\ddots &  \\vdots \\\\\n",
    "c_{2n-2} & c_{2n-3} &  & \\cdots & c_{n-1} \\\\\n",
    "c_{2n-1} & c_{2n-2} & c_{2n-3} & \\cdots & c_n\\\\\n",
    "\\end{array}\\right)$$\n",
    "\n",
    "Every element $T(i,j)$ of the matrix for $i \\geq 2 $ and $j \\geq 2$ equals the element $T(i-1, j-1)$, to the top and left of it.\n",
    "\n",
    "Design a $\\Theta(n \\log_2(n))$ algorithm to multiply $T$ with any given vector $\\mathbf{y}:\\ \\left( \\begin{array}{c}\n",
    "y_1 \\\\ \n",
    "y_2 \\\\\n",
    "\\vdots \\\\\n",
    "y_n \\\\\n",
    "\\end{array}\\right)$.\n",
    "\n",
    "Write down two polynomials corresponding to the matrix $T$ and vector $\\mathbf{y}$, respectively such that \n",
    "the  coefficients from the multiplication of these polynomials will equal to the entries of the\n",
    "result $T \\mathbf{y}$. \n"
   ]
  },
  {
   "cell_type": "markdown",
   "metadata": {},
   "source": [
    "### Answer (Expected: 10 lines)\n",
    "\n",
    "> Lorem Ipsum is simply dummy text of the printing and typesetting industry. Lorem Ipsum has been the industry's standard dummy text ever since the 1500s, when an unknown printer took a galley of type and scrambled it to make a type specimen book. It has survived not only five centuries, but also the leap into electronic typesetting, remaining essentially unchanged. It was popularised in the 1960s with the release of Letraset sheets containing Lorem Ipsum passages, and more recently with desktop publishing software like Aldus PageMaker including versions of Lorem Ipsum.\n",
    "\n",
    "\n"
   ]
  },
  {
   "cell_type": "markdown",
   "metadata": {},
   "source": [
    "## Problem 4 (Max Subarray Problem, 10 points)\n",
    "\n",
    "In class we solved the max subarray problem, which was to find  two indices $ i < j$ in a given array of numbers $A$, \n",
    "such that $A[i] < A[j]$ and the difference $A[j] - A[i]$ is the maximum possible. If no such indices are found\n",
    "return $-\\infty$ (` - math.inf` in python)\n",
    "\n",
    "Provide a __clear__ linear time implementation for this problem. For clarity, you should use a single for-loop in your implementation, so that we can understand your logic quite easily.\n",
    "\n",
    "Your algorithm should return the __max difference__ $A[j] - A[i]$ (we do not need to know i, j).\n",
    "\n"
   ]
  },
  {
   "cell_type": "code",
   "execution_count": 26,
   "metadata": {},
   "outputs": [],
   "source": [
    "import math\n",
    "def maxSubArray(a):\n",
    "    # Code here.\n",
    "    # Just use a single for loop that iterates over \n",
    "    # the array in forward or reverse direction, as you please\n",
    "    max_diff = a[1] - a[0]\n",
    "    min_element = a[0]\n",
    "    for item in a[1:]:\n",
    "        if((item-min_element) > max_diff):\n",
    "            max_diff = (item-min_element)\n",
    "        if(item < min_element):\n",
    "            min_element = item\n",
    "    if(max_diff <= 0): return -math.inf\n",
    "    return max_diff\n",
    "    #return 0"
   ]
  },
  {
   "cell_type": "code",
   "execution_count": 28,
   "metadata": {},
   "outputs": [],
   "source": [
    "import math\n",
    "def maxSubArray(a):\n",
    "    # Code here.\n",
    "    # Just use a single for loop that iterates over \n",
    "    # the array in forward or reverse direction, as you please\n",
    "    max_diff = a[-1] - a[-2]\n",
    "    max_element = a[-1]\n",
    "    for i in range(-2, :\n",
    "        if((max_element - item) > max_diff):\n",
    "            max_diff = (max_element-item)\n",
    "        if(item > max_element):\n",
    "            max_element = item\n",
    "    if(max_diff <= 0): return -math.inf\n",
    "    return max_diff\n",
    "    #return 0"
   ]
  },
  {
   "cell_type": "code",
   "execution_count": 29,
   "metadata": {},
   "outputs": [
    {
     "ename": "AssertionError",
     "evalue": "Test 1 failed",
     "output_type": "error",
     "traceback": [
      "\u001b[0;31m---------------------------------------------------------------------------\u001b[0m",
      "\u001b[0;31mAssertionError\u001b[0m                            Traceback (most recent call last)",
      "\u001b[0;32m<ipython-input-29-34629c4da3c2>\u001b[0m in \u001b[0;36m<module>\u001b[0;34m()\u001b[0m\n\u001b[1;32m      5\u001b[0m \u001b[0ma\u001b[0m \u001b[0;34m=\u001b[0m \u001b[0;34m[\u001b[0m\u001b[0;36m3\u001b[0m\u001b[0;34m,\u001b[0m \u001b[0;36m1\u001b[0m\u001b[0;34m,\u001b[0m \u001b[0;36m0\u001b[0m\u001b[0;34m,\u001b[0m \u001b[0;36m3\u001b[0m\u001b[0;34m,\u001b[0m \u001b[0;36m2\u001b[0m\u001b[0;34m,\u001b[0m \u001b[0;36m1\u001b[0m\u001b[0;34m,\u001b[0m \u001b[0;36m4\u001b[0m\u001b[0;34m,\u001b[0m \u001b[0;36m9\u001b[0m\u001b[0;34m,\u001b[0m \u001b[0;36m10\u001b[0m\u001b[0;34m,\u001b[0m \u001b[0;36m8\u001b[0m\u001b[0;34m,\u001b[0m \u001b[0;36m5\u001b[0m\u001b[0;34m,\u001b[0m \u001b[0;36m7\u001b[0m\u001b[0;34m,\u001b[0m \u001b[0;36m9\u001b[0m\u001b[0;34m]\u001b[0m\u001b[0;34m\u001b[0m\u001b[0m\n\u001b[1;32m      6\u001b[0m \u001b[0;31m# print(maxSubArray(a))\u001b[0m\u001b[0;34m\u001b[0m\u001b[0;34m\u001b[0m\u001b[0m\n\u001b[0;32m----> 7\u001b[0;31m \u001b[0;32massert\u001b[0m \u001b[0mmaxSubArray\u001b[0m\u001b[0;34m(\u001b[0m\u001b[0ma\u001b[0m\u001b[0;34m)\u001b[0m \u001b[0;34m==\u001b[0m \u001b[0;36m10\u001b[0m\u001b[0;34m,\u001b[0m \u001b[0;34m'Test 1 failed'\u001b[0m\u001b[0;34m\u001b[0m\u001b[0m\n\u001b[0m\u001b[1;32m      8\u001b[0m \u001b[0;34m\u001b[0m\u001b[0m\n\u001b[1;32m      9\u001b[0m \u001b[0;31m# test 2\u001b[0m\u001b[0;34m\u001b[0m\u001b[0;34m\u001b[0m\u001b[0m\n",
      "\u001b[0;31mAssertionError\u001b[0m: Test 1 failed"
     ]
    }
   ],
   "source": [
    "# test 1\n",
    "import math\n",
    "from random import sample\n",
    "\n",
    "a = [3, 1, 0, 3, 2, 1, 4, 9, 10, 8, 5, 7, 9]\n",
    "# print(maxSubArray(a))\n",
    "assert maxSubArray(a) == 10, 'Test 1 failed'\n",
    "\n",
    "# test 2\n",
    "\n",
    "b = [10, 4, 5, 1, 2, 7, 8, 1, 0, -10, 10, -5, 19, 231, 11, -55]\n",
    "# print(maxSubArray(b))\n",
    "assert maxSubArray(b) == 241, 'Test 2 failed'\n",
    "\n",
    "# test 3\n",
    "\n",
    "c = [10, 2, -1, -5,-4]\n",
    "\n",
    "# print(maxSubArray(c))\n",
    "assert maxSubArray(c) == 1, 'Test 3 failed'\n",
    "\n",
    "# test 4\n",
    "\n",
    "def naiveMaxSubArray(a):\n",
    "    n = len(a)\n",
    "    maxSoFar = -math.inf\n",
    "    for i in range(n-1):\n",
    "        for j in range(i+1, n):\n",
    "            if (a[i] < a[j] and maxSoFar < (a[j]- a[i])):\n",
    "                maxSoFar = a[j] - a[i]\n",
    "    return maxSoFar\n",
    "\n",
    "\n",
    "def testMaxSubArray(nTests, testSize):\n",
    "    for i in range(nTests):\n",
    "        a = sample( range(-1 * nTests,   nTests ), testSize)\n",
    "        j = naiveMaxSubArray(a)\n",
    "        l = maxSubArray(a)\n",
    "        if (j != l):\n",
    "            print('Failed for array: ',(a), '\\n Expected: ',j, ' Obtained: ',l)\n",
    "            return\n",
    "    print(nTests, 'tests passed!')\n",
    "    \n",
    "testMaxSubArray(1000, 5)\n",
    "testMaxSubArray(1000, 10)\n",
    "testMaxSubArray(1000, 30)"
   ]
  },
  {
   "cell_type": "code",
   "execution_count": null,
   "metadata": {},
   "outputs": [],
   "source": []
  }
 ],
 "metadata": {
  "kernelspec": {
   "display_name": "Python 3",
   "language": "python",
   "name": "python3"
  },
  "language_info": {
   "codemirror_mode": {
    "name": "ipython",
    "version": 3
   },
   "file_extension": ".py",
   "mimetype": "text/x-python",
   "name": "python",
   "nbconvert_exporter": "python",
   "pygments_lexer": "ipython3",
   "version": "3.6.5"
  }
 },
 "nbformat": 4,
 "nbformat_minor": 2
}
