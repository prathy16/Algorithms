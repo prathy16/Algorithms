{
 "cells": [
  {
   "cell_type": "markdown",
   "metadata": {},
   "source": [
    "# CSCI 5454 Assignment 2 \n",
    "\n",
    "Your Name Here: __ Prathyusha Gayam __ "
   ]
  },
  {
   "cell_type": "markdown",
   "metadata": {},
   "source": [
    "## Problem 1: Axioms of Probability (20 points)\n",
    "\n",
    "Let $A$ be a sample space with a set of events $\\{ \\emptyset, E_1, \\ldots, E_n, A \\}$.  We covered the basic axioms\n",
    "of probability in class and recall a few of these axioms here.\n",
    "- $p(\\emptyset) = 0, p(A) = 1$.\n",
    "- $p(E_i) \\geq 0$ and $p(E_i) \\leq 1$ for all events $E_i$.\n",
    "- If $E_1, E_2, \\ldots, E_n$ are pairwise disjoint then $p(E_1 \\cup E_2 \\cup \\cdots \\cup E_n) = p(E_1) + \\cdots + p(E_n) $.\n",
    "\n",
    "Your proof can only use facts about sets, the  axioms above and previously proven facts in this problem. \n",
    "Please write down your proof as a bulleted list as shown below.\n",
    "\n",
    "> __Example__ Prove that if $E_1 \\subseteq E_2$ then $p(E_2 \\setminus E_1) = p(E_2) - p(E_1)$.\n",
    "\n",
    "> __Proof:__  \n",
    "> 1. $E_2 = E_1 \\cup  (E_2 \\setminus E_1) $.\n",
    "> 2. The sets $E_1, (E_2 \\setminus E_1) $ are disjoint. \n",
    "> 3. Therefore, $p(E_2) = p(E_1) + p(E_2 \\setminus E_1)$ (axiom).  \n",
    "> 4. Rearranging, $p(E_2 \\setminus E_1) = p(E_2) - p(E_1)$.\n",
    "\n",
    "(A) Prove that if $E_1 \\subseteq E_2$ then \n",
    "\n",
    "$$p(E_1) \\leq p(E_2)$$.\n",
    "\n",
    "(B) Prove the inclusion-exclusion principle: \n",
    "\n",
    "$$p(E_1 \\cup E_2) = p(E_1) + p(E_2) - p(E_1 \\cap E_2)\\,.$$\n",
    "\n",
    "(**Hint:** Write $E_1 \\cup E_2 = (E_1 \\setminus (E_1 \\cap E_2)) \\bigcup (E_2 \\setminus (E_1 \\cap E_2)) \\bigcup (E_1 \\cap E_2)$. Feel free to use the result already proved in the example above.).\n",
    "\n",
    "(C) Prove Boole's Inequality:\n",
    "\n",
    "$$p(E_1) + p(E_2) - 1 \\leq p(E_1 \\cup E_2) \\leq p(E_1) + p(E_2)\\,.$$\n",
    "\n",
    "(D) Prove Frechet's Inequality:\n",
    "\n",
    "$$p(E_1) + p(E_2) -1 \\leq p(E_1 \\cap E_2) \\leq \\min( p(E_1), p(E_2) )\\,. $$\n",
    "\n",
    "\n"
   ]
  },
  {
   "cell_type": "markdown",
   "metadata": {},
   "source": [
    "## Solution (Expected Length: 25 lines)\n",
    "\n",
    "> __(A)__    \n",
    "> 1. $p(E_2 \\setminus E_1) = p(E_2) - p(E_1)$.\n",
    "> 2. $p(E_2 \\setminus E_1)>=0$.\n",
    "> 3. Therefore, $p(E_2) - p(E_1) >=0$.\n",
    "> 4. Rearranging, $p(E_1) <= p(E_2)$. __Hence Proved__\n",
    "\n",
    "> __(B)__  \n",
    "> 1. $E_1 \\cup E_2 = (E_1 \\setminus (E_1 \\cap E_2)) \\bigcup (E_2 \\setminus (E_1 \\cap E_2)) \\bigcup (E_1 \\cap E_2)$.\n",
    "> 2. The sets $(E_1 \\setminus (E_1 \\cap E_2)), (E_2 \\setminus (E_1 \\cap E_2)) and (E_1 \\cap E_2) \\quad are \\quad disjoint$.\n",
    "> 3. Therefore, $p(E_1 \\cup E_2) = p(E_1 \\setminus (E_1 \\cap E_2)) + p(E_2 \\setminus (E_1 \\cap E_2)) + p(E_1 \\cap E_2)$ (axiom).\n",
    "> 4. $p(E_1 \\cup E_2) = p(E_1) - p(E_1 \\cap E_2) + p(E_2) - p(E_1 \\cap E_2) + p(E_1 \\cap E_2)$\n",
    "> 5. $p(E_1 \\cup E_2) = p(E_1) + p(E_2) - p(E_1 \\cap E_2)$ __Hence Proved__.\n",
    "\n",
    "> __(C)__\n",
    "> 1. $ 0 <= p(E_1 \\cap E_2) <= 1$ (axiom).\n",
    "> 2. Multiplying by -1, $ -1 <= -1 \\times p(E_1 \\cap E_2) <= 0 $\n",
    "> 3. $p(E_1) + p(E_2) -1 <= p(E_1) + p(E_2) - p(E_1 \\cap E_2) <= p(E_1) + p(E_2) $\n",
    "> 4. $p(E_1) + p(E_2) -1 <= p(E_1 \\cup E_2) <= p(E_1) + p(E_2) $ __Hence Proved__\n",
    "\n",
    "> __(D)__\n",
    "> 1. $p(E_1 \\cup E_2) = p(E_1) + p(E_2) - p(E_1 \\cap E_2)$\n",
    "> 2. From axiom $p(E_i) <= 1, p(E_1 \\cup E_2) <= 1$\n",
    "> 3. $p(E_1) + p(E_2) - p(E_1 \\cap E_2) <= 1$\n",
    "> 4. $p(E_1) + p(E_2) - 1 <= p(E_1 \\cap E_2)$\n",
    "> 5. $p(E_1 \\cap E_2) = p(E_1|E_2) \\times p(E_2) = p(E_2|E_1) \\times p(E_1)$\n",
    "> 6. From axiom $p(E_i|E_j) <= 1, \\quad p(E_1 \\cap E_2) = p(E_2|E_1) \\times p(E_1) <= p(E_1) \\quad and \\quad p(E_1 \\cap E_2) = p(E_1|E_2) \\times p(E_2) <= p(E_2)$\n",
    "> 7. From the above 2 inequalities, $ p(E_1 \\cap E_2) <= min(p(E_1), p(E_2))$\n",
    "> 8. From 4, 7; $p(E_1) + p(E_2) -1 \\leq p(E_1 \\cap E_2) \\leq \\min( p(E_1), p(E_2) )\\,. $ __Hence Proved__"
   ]
  },
  {
   "cell_type": "markdown",
   "metadata": {},
   "source": [
    "## Problem 2  (20 points)\n",
    "\n",
    "You are given a fair coin that can come up with heads with probability $\\frac{1}{2}$ \n",
    "and tails with probability $\\frac{1}{2}$. Using this coin, we can simulate coins that have\n",
    "a probability $p = \\frac{1}{8}$ of showing up heads, for example. To do this, toss\n",
    "the fair coin three times and return __heads__ if all three tosses are heads, and __tails__ if any\n",
    "of the tosses showed up tails.\n",
    "\n",
    "__(A)__  Design an algorithm that can simulate a biased \"coin\" with probability\n",
    "of heads given by $p = \\frac{21}{64} = \\frac{1}{4} + \\frac{1}{16} + \\frac{1}{64} $.\n",
    "Your algorithm can perform multiple tosses of the fair coin. Your algorithm\n",
    "should return TRUE with probability $\\frac{21}{64}$\n",
    "and  FALSE with probability $1 - \\frac{21}{64}$.\n",
    "\n",
    "__(B)__  Design an algorithm that can simulate a biased coin with probability\n",
    "of heads given by $\\frac{1}{3} = \\frac{1}{2^2} + \\frac{1}{2^4} + \\frac{1}{2^6} + \\frac{1}{2^8} + \\cdots $.\n",
    "Your algorithm can perform multiple tosses of the fair coin. Your algorithm must\n",
    "return TRUE with probability $\\frac{1}{3}$ and  FALSE with probability\n",
    "$\\frac{2}{3}$.\n",
    "\n",
    "Give a justification as to why the probability of your algorithm returning true is $\\frac{1}{3}$.\n",
    "\n",
    "What is the expected running number of times your algorithm will need to toss the fair coin?\n",
    "\n",
    "\n",
    "__How to write the solution__ \n",
    "\n",
    "> 1. initialize  a counter $i = 1$.\n",
    "> 2. Toss the coin.\n",
    ">   - If it shows up heads ...\n",
    ">   - If it shows up tails ...  \n",
    "> .... \n",
    "> ... i = i + 1, and repeat step 2.\n",
    "> \n",
    "> The reason the algorithm works is because, the probability of returning TRUE is given by the expression\n",
    "> $ \\cdots  = \\frac{1}{3}$. The algorithm performs repeated tosses and therefore, .... The expected running time is xx steps."
   ]
  },
  {
   "cell_type": "markdown",
   "metadata": {},
   "source": [
    "### Answer (Expected Length: 20 lines).\n",
    "\n",
    "> __Algorithm for (A)__\n",
    "> 1. Initialize a counter $i=0$\n",
    "> 2. Toss a coin until $i < 6$\n",
    ">    - increment counter $i = i+1$\n",
    ">    - If it shows heads,\n",
    ">      - if i is even, \n",
    ">        - return True, \n",
    ">      - else, \n",
    ">        - return False\n",
    ">    - If it shows tails, go to step 2\n",
    "> 3. return False\n",
    ">\n",
    ">The algorithm performs repeated tosses until it gets a __Head__ in 6 tosses. An event is considered success only if we get a head in the even position like 2, 4, or 6th position, therefore, \n",
    ">\n",
    "> Possible set of events = {$H, TH, TTH, TTTH, TTTTH, TTTTTH, TTTTTT$} \n",
    "> __\\[Heads at both ODD and EVEN places\\]__\n",
    ">\n",
    "> Success Events = {$TH, TTTH, TTTTTH$} \n",
    ">__\\[Heads in EVEN place\\]__\n",
    ">\n",
    "> The reason the algorithm works is because, the probability of returning TRUE for a biased coin is given by the expression\n",
    "> $\\qquad P = P(TH) + (P(TT))\\times P(TH) + (P(TT)^2) \\times P(TH)$\n",
    "> $= {21/64}$\n",
    ">\n",
    "\n",
    "> --------------------------------------------------------------------------- \n",
    "\n",
    "> __Answer for (B)__\n",
    "> 1. Initialize a counter $i=0$\n",
    "> 2. Toss a coin\n",
    ">    - increment counter $i = i+1$\n",
    ">    - If it shows heads,\n",
    ">      - if i is even, \n",
    ">        - return True, \n",
    ">      - else, \n",
    ">        - return False\n",
    ">    - If it shows tails, go to step 2\n",
    ">\n",
    ">The algorithm performs repeated tosses until it gets a __Head__. An event is considered success only if we get a head in the even position like 2, 4, 6, 8, ......., therefore, \n",
    ">\n",
    "> Possible set of events = {$H, TH, TTH, TTTH, TTTTH, \\cdots \\cdots$} \n",
    "> __\\[Heads at both ODD and EVEN places\\]__\n",
    ">\n",
    "> Success Events = {$TH, TTTH, TTTTTH, TTTTTTTH, TTTTTTTTTH, \\cdots \\cdots$} \n",
    ">__\\[Heads in EVEN place\\]__\n",
    ">\n",
    "> The reason the algorithm works is because, the probability of returning TRUE for a biased coin is given by the expression\n",
    "> $\\qquad P = P(TH) + (P(TT))\\times P(TH) + (P(TT)^2) \\times P(TH) + \\cdots + \\cdots$\n",
    "> $= {P(TH) / (1 - P(TH))}$\n",
    "> $= {1/3}$\n",
    ">\n",
    "> __Let the expected running time is E steps__\n",
    ">\n",
    "> __Approach 1:__ Ref from https://www.cut-the-knot.org/Probability/LengthToFirstSuccess.shtml\n",
    ">\n",
    "> $E = $getting head in 1st toss + getting head in 2nd toss$ + \\cdots $\n",
    ">\n",
    "> $E = 1 \\times p + 2 \\times (1-p) \\times p + 3 \\times (1-p) ^ {2} \\times p + \\cdots \\cdots $\n",
    "> $ = \\sum_{i = 1} ^{} {\\frac{i}{2^i}}$\n",
    "> $ = 1/p$\n",
    ">\n",
    "> With fair coin prob of getting a head, $p = 1/2$\n",
    ">\n",
    "> $E = 2$ steps\n",
    ">\n",
    "> __Approach 2__\n",
    "> \n",
    "> Prob of getting a head with baised coin, $p = 1/3$\n",
    ">\n",
    "> $E = (1-p) \\times (p) + p(1-p) \\times (1-p) \\times (E+2)$\n",
    "> $  = 2$\n",
    ">"
   ]
  },
  {
   "cell_type": "markdown",
   "metadata": {},
   "source": [
    "### Problem 2(C), 5 points\n",
    "\n",
    "Implement your scheme in 2(B) to get a function that uses a fair coin obtained by calling the inbuilt function\n",
    "`random.getrandbits(1)` in python to get a random bit and returns `True` with probability $\\frac{1}{3}$.\n",
    "Note that $\\frac{1}{3}$ in binary is given by $0.01010101\\cdots$."
   ]
  },
  {
   "cell_type": "code",
   "execution_count": 1,
   "metadata": {},
   "outputs": [],
   "source": [
    "from random import getrandbits\n",
    "l = []\n",
    "def makeOneThirdCoin(): \n",
    "    # binary expansion of 1/3 is 0.0101010101....\n",
    "    # To obtain a random boolean with half probability of true and half probability of false\n",
    "    #         b = bool(getrandbits(1))\n",
    "    # Your code here\n",
    "    \n",
    "    # counter keeps track of no. of tosses\n",
    "    counter = 0\n",
    "    # keep tossing the coin until you get a Head(1)\n",
    "    while(1): \n",
    "        toss = getrandbits(1)\n",
    "        counter += 1\n",
    "        if(toss == 1): \n",
    "            # if you get head at even toss then return True(1) else return False(0)\n",
    "            return 1 - counter%2"
   ]
  },
  {
   "cell_type": "code",
   "execution_count": 2,
   "metadata": {
    "scrolled": false
   },
   "outputs": [
    {
     "name": "stdout",
     "output_type": "stream",
     "text": [
      "Count =  3331850  probability est =  0.333185\n"
     ]
    }
   ],
   "source": [
    "# Test that probability of makeOneThirdCoin() is correct\n",
    "count = 0\n",
    "t = 0\n",
    "nTrials = 10000000\n",
    "for i in range(nTrials): \n",
    "    b = makeOneThirdCoin()\n",
    "    if (b):\n",
    "        count = count + 1\n",
    "print('Count = ', count, ' probability est = ', count/nTrials)"
   ]
  },
  {
   "cell_type": "markdown",
   "metadata": {},
   "source": [
    "## Problem 3 (Coupon Collector's Problem: Experimentally, 15 points)\n",
    "\n",
    "In this problem, we explore the behavior of the coupon's collector problem experimentally. \n",
    "\n",
    "You will need to use random and matplotlib packages for this problem.\n",
    "\n",
    "(A) Complete a python function `simulateCouponCollection(n)` for input ` n > 1` that \n",
    "1. creates a boolean array $b$ of length n initially all false.\n",
    "2. repeatedly generates a uniform random number $j$ from $0$ to $n-1$ and makes $b[j]$ true.\n",
    "3. returns the number of times step 2 needs to be run before all the entries of $b$ become true.\n",
    "The return value is thus the number of coupons collected before all coupons are seen.\n",
    "\n",
    "(B) Next, run `simulateCouponCollection(n)` for $n = 10, 20, 30, ..., 200$.\n",
    "- for each $n$ run the coupon collection at least 1000 times.\n",
    "- Plot the average value of the number of coupons collected against n.\n",
    "- Sample code using matplotlib library is provided.\n",
    "\n",
    "Suggestion: Write a function `runCouponCollectionExperiment()` that varies $n$ over the given range, \n",
    "running `simulateCouponCollection(n)` a thousand times for each n. Compute the average for each \n",
    "n and return a dictionary mapping each `n` to the average value for `n`. \n",
    "Use the provided utility function `plotMap` to plot your map and compare to $1.1 n \\log(n)$. Feel free to augment our simple efforts.\n",
    "\n",
    "(C) Finally fixing $n = 500$, run `simulateCouponCollection(n)` at least 5000 times. And plot a histogram of the results. You will note the \"concentration of measure\" phenomenon clearly. Although the maximum number of trials\n",
    "can be quite large, you will find that the density concentrates closely around $(n \\log(n))$.\n",
    "\n",
    "Suggestion: Write a function `histogramCouponCollection` to obtain the raw data as a list. Use the provided `plotHistogramFromList` function to implement the histogram. Feel free to augment our simple efforts.\n"
   ]
  },
  {
   "cell_type": "code",
   "execution_count": 3,
   "metadata": {},
   "outputs": [],
   "source": [
    "from random import randint\n",
    "def isbinsFull(bins, n):\n",
    "    for i in range(n):\n",
    "        if(bins[i] == False): return False\n",
    "    return True\n",
    "def simulateCouponCollection(n):\n",
    "    # Your code here.\n",
    "    bins = [False for i in range(n)]\n",
    "    counter = 0\n",
    "    while(not isbinsFull(bins, n)):\n",
    "        j = randint(0, n-1)\n",
    "        bins[j] = True; counter += 1\n",
    "    return counter"
   ]
  },
  {
   "cell_type": "code",
   "execution_count": 4,
   "metadata": {},
   "outputs": [],
   "source": [
    "def runCouponCollectionExperiment(nMax):\n",
    "    returnData = {}\n",
    "    # Your code here\n",
    "    nTrials = 1500\n",
    "    for i in range(10, nMax+1, 10):\n",
    "        result = 0\n",
    "        for j in range(nTrials):\n",
    "            result += simulateCouponCollection(i)\n",
    "        returnData[i] = result/nTrials\n",
    "    return returnData"
   ]
  },
  {
   "cell_type": "code",
   "execution_count": 5,
   "metadata": {},
   "outputs": [],
   "source": [
    "def histogramCouponCollection(n, nTrials):\n",
    "    returnData = []\n",
    "    # Your code here\n",
    "    for j in range(nTrials):\n",
    "        returnData.append(simulateCouponCollection(n))\n",
    "    return returnData"
   ]
  },
  {
   "cell_type": "code",
   "execution_count": 6,
   "metadata": {},
   "outputs": [],
   "source": [
    "mymap = runCouponCollectionExperiment(200)"
   ]
  },
  {
   "cell_type": "code",
   "execution_count": 7,
   "metadata": {},
   "outputs": [],
   "source": [
    "%matplotlib inline\n",
    "import matplotlib.pyplot as plt\n",
    "import math\n",
    "def plotMap(m, nMax):\n",
    "    n = list(range(10, nMax, 10))\n",
    "    v = []\n",
    "    nlogn = [] \n",
    "    for i in n:\n",
    "        nlogn.append( 1.1* i * math.log(i))\n",
    "        if i in m:\n",
    "            v.append(m[i])\n",
    "        else:\n",
    "            print('Warning: no data for n = ', i)\n",
    "            v.append(0)\n",
    "    plt.plot(n, v, 'go-', label='Avg. Steps to Collect all Coupons', linewidth=2)\n",
    "    plt.plot(n, nlogn, 'r--', label='n log(n)', linewidth=2)\n",
    "    plt.xlabel(\"n\")\n",
    "    plt.ylabel(\"# steps to collect all coupons\")\n",
    "    plt.show()\n",
    "        "
   ]
  },
  {
   "cell_type": "code",
   "execution_count": 8,
   "metadata": {},
   "outputs": [
    {
     "data": {
      "image/png": "[encoded data removed]",
      "text/plain": [
       "<Figure size 432x288 with 1 Axes>"
      ]
     },
     "metadata": {},
     "output_type": "display_data"
    }
   ],
   "source": [
    "plotMap(mymap, 200)"
   ]
  },
  {
   "cell_type": "code",
   "execution_count": 9,
   "metadata": {},
   "outputs": [],
   "source": [
    "# def runHistogram(n, numTrials):\n",
    "#     lst = []\n",
    "#     for i in range(numTrials):\n",
    "#         lst.append(simulateCouponCollection(n))\n",
    "#     return lst"
   ]
  },
  {
   "cell_type": "code",
   "execution_count": 10,
   "metadata": {},
   "outputs": [],
   "source": [
    "lst = histogramCouponCollection(500, 5000)"
   ]
  },
  {
   "cell_type": "code",
   "execution_count": 11,
   "metadata": {},
   "outputs": [],
   "source": [
    "def plotHistogramFromList(lst):\n",
    "    plt.hist(lst, density=True, bins=50)\n",
    "    plt.ylabel('Probability')\n",
    "    plt.xlabel('# steps to collect all coupons')\n",
    "    plt.show()"
   ]
  },
  {
   "cell_type": "code",
   "execution_count": 12,
   "metadata": {},
   "outputs": [
    {
     "data": {
      "image/png": "[encoded data removed]",
      "text/plain": [
       "<Figure size 432x288 with 1 Axes>"
      ]
     },
     "metadata": {},
     "output_type": "display_data"
    }
   ],
   "source": [
    "plotHistogramFromList(lst)"
   ]
  },
  {
   "cell_type": "code",
   "execution_count": null,
   "metadata": {},
   "outputs": [],
   "source": []
  }
 ],
 "metadata": {
  "kernelspec": {
   "display_name": "Python 3",
   "language": "python",
   "name": "python3"
  },
  "language_info": {
   "codemirror_mode": {
    "name": "ipython",
    "version": 3
   },
   "file_extension": ".py",
   "mimetype": "text/x-python",
   "name": "python",
   "nbconvert_exporter": "python",
   "pygments_lexer": "ipython3",
   "version": "3.6.5"
  }
 },
 "nbformat": 4,
 "nbformat_minor": 2
}
